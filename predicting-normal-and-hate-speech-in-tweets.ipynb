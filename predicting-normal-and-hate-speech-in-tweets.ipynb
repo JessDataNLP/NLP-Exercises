{
 "cells": [
  {
   "cell_type": "markdown",
   "id": "d88cd8a8",
   "metadata": {
    "papermill": {
     "duration": 0.010773,
     "end_time": "2023-04-10T09:57:38.081065",
     "exception": false,
     "start_time": "2023-04-10T09:57:38.070292",
     "status": "completed"
    },
    "tags": []
   },
   "source": [
    "## Predicting Normal and Hate Speech in Tweets using Gloves vectors\n",
    "\n",
    "Social media has become an integral part of our daily lives, with Twitter being one of the most popular platforms used to share opinions. Unfourtunately, the increased use of abusive language and hate speech represents a well-known problem on online platforms.\n",
    "\n",
    "In this Jupyter notebook, I will explore a machine learning approach to classify tweets into normal and hate speech categories using GloVe vectors. GloVe (Global Vectors for Word Representation) is a pre-trained unsupervised method for generating vector representations for words that capture their meanings and relationships in a high-dimensional space.\n",
    "\n",
    "I will use a dataset of labeled tweets containing normal and hate speech, and train a logistic regression model on the GloVe vectors to predict the class of new tweets. The performance of the model will be evaluated using metrics such as accuracy, precision, recall, and F1-score.\n",
    "\n",
    "This notebook aims to provide a practical guide to using GloVe vectors for text classification, and to demonstrate the effectiveness of machine learning in detecting hate speech on social media."
   ]
  },
  {
   "cell_type": "markdown",
   "id": "cf8bbdc2",
   "metadata": {
    "papermill": {
     "duration": 0.008145,
     "end_time": "2023-04-10T09:57:38.097776",
     "exception": false,
     "start_time": "2023-04-10T09:57:38.089631",
     "status": "completed"
    },
    "tags": []
   },
   "source": [
    "## Importing all the required libraries"
   ]
  },
  {
   "cell_type": "code",
   "execution_count": 1,
   "id": "33de1849",
   "metadata": {
    "execution": {
     "iopub.execute_input": "2023-04-10T09:57:38.116614Z",
     "iopub.status.busy": "2023-04-10T09:57:38.116198Z",
     "iopub.status.idle": "2023-04-10T09:57:40.540703Z",
     "shell.execute_reply": "2023-04-10T09:57:40.539353Z"
    },
    "papermill": {
     "duration": 2.43716,
     "end_time": "2023-04-10T09:57:40.543478",
     "exception": false,
     "start_time": "2023-04-10T09:57:38.106318",
     "status": "completed"
    },
    "tags": []
   },
   "outputs": [
    {
     "name": "stdout",
     "output_type": "stream",
     "text": [
      "done!\n"
     ]
    }
   ],
   "source": [
    "import pandas as pd\n",
    "import numpy as np\n",
    "import re\n",
    "import nltk\n",
    "import emoji\n",
    "\n",
    "from gensim.scripts.glove2word2vec import glove2word2vec\n",
    "from nltk.tokenize import word_tokenize\n",
    "from nltk.corpus import stopwords\n",
    "from sklearn.feature_extraction.text import CountVectorizer, TfidfVectorizer\n",
    "from sklearn.metrics import accuracy_score, classification_report\n",
    "from sklearn.model_selection import train_test_split\n",
    "from sklearn.linear_model import LogisticRegression\n",
    "from sklearn.svm import SVC\n",
    "from sklearn.naive_bayes import MultinomialNB\n",
    "from sklearn.ensemble import RandomForestClassifier\n",
    "from sklearn.pipeline import Pipeline\n",
    "from sklearn.metrics import confusion_matrix\n",
    "from nltk.stem import WordNetLemmatizer\n",
    "from nltk.tokenize import TweetTokenizer\n",
    "from nltk.stem.porter import PorterStemmer\n",
    "from sklearn.metrics import plot_confusion_matrix\n",
    "from sklearn.metrics import precision_recall_curve, auc, roc_curve\n",
    "from scipy.sparse import hstack\n",
    "from sklearn.model_selection import GridSearchCV\n",
    "from gensim.models import Word2Vec\n",
    "from gensim.models import KeyedVectors\n",
    "from gensim.test.utils import datapath\n",
    "import matplotlib.pyplot as plt\n",
    "%matplotlib inline\n",
    "print(\"done!\")"
   ]
  },
  {
   "cell_type": "markdown",
   "id": "fe221ce8",
   "metadata": {
    "papermill": {
     "duration": 0.008069,
     "end_time": "2023-04-10T09:57:40.560022",
     "exception": false,
     "start_time": "2023-04-10T09:57:40.551953",
     "status": "completed"
    },
    "tags": []
   },
   "source": [
    "## Importing the files"
   ]
  },
  {
   "cell_type": "code",
   "execution_count": 2,
   "id": "741520d2",
   "metadata": {
    "_cell_guid": "b1076dfc-b9ad-4769-8c92-a6c4dae69d19",
    "_uuid": "8f2839f25d086af736a60e9eeb907d3b93b6e0e5",
    "execution": {
     "iopub.execute_input": "2023-04-10T09:57:40.579546Z",
     "iopub.status.busy": "2023-04-10T09:57:40.578269Z",
     "iopub.status.idle": "2023-04-10T09:57:40.596366Z",
     "shell.execute_reply": "2023-04-10T09:57:40.595062Z"
    },
    "papermill": {
     "duration": 0.030417,
     "end_time": "2023-04-10T09:57:40.598885",
     "exception": false,
     "start_time": "2023-04-10T09:57:40.568468",
     "status": "completed"
    },
    "tags": []
   },
   "outputs": [
    {
     "name": "stdout",
     "output_type": "stream",
     "text": [
      "/kaggle/input/glove6b100dtxt/glove.6B.100d.txt\n",
      "/kaggle/input/normal-hate-and-offensive-speeches/Offensive_Speeches_1.csv\n",
      "/kaggle/input/normal-hate-and-offensive-speeches/Hate_Speeches_1.csv\n",
      "/kaggle/input/normal-hate-and-offensive-speeches/Normal_Speeches_1.csv\n",
      "/kaggle/input/normal-hate-and-offensive-speeches/Normal_Speeches_4.csv\n",
      "/kaggle/input/normal-hate-and-offensive-speeches/Offensive_Speeches_2.csv\n",
      "/kaggle/input/normal-hate-and-offensive-speeches/Normal_Speeches_2.csv\n",
      "/kaggle/input/normal-hate-and-offensive-speeches/Offensive_Speeches_4.csv\n",
      "/kaggle/input/normal-hate-and-offensive-speeches/Hate_Speeches_4.csv\n",
      "/kaggle/input/normal-hate-and-offensive-speeches/Normal_Speeches_3.csv\n",
      "/kaggle/input/normal-hate-and-offensive-speeches/Hate_Speeches_2.csv\n",
      "/kaggle/input/normal-hate-and-offensive-speeches/Offensive_Speeches_3.csv\n",
      "/kaggle/input/normal-hate-and-offensive-speeches/Hate_Speeches_3.csv\n"
     ]
    }
   ],
   "source": [
    "\n",
    "\n",
    "# Input data files are available in the read-only \"../input/\" directory\n",
    "# For example, running this (by clicking run or pressing Shift+Enter) will list all files under the input directory\n",
    "\n",
    "import os\n",
    "for dirname, _, filenames in os.walk('/kaggle/input'):\n",
    "    for filename in filenames:\n",
    "        print(os.path.join(dirname, filename))\n",
    "\n",
    "# You can write up to 20GB to the current directory (/kaggle/working/) that gets preserved as output when you create a version using \"Save & Run All\" \n",
    "# You can also write temporary files to /kaggle/temp/, but they won't be saved outside of the current session"
   ]
  },
  {
   "cell_type": "markdown",
   "id": "2a960176",
   "metadata": {
    "papermill": {
     "duration": 0.008332,
     "end_time": "2023-04-10T09:57:40.615956",
     "exception": false,
     "start_time": "2023-04-10T09:57:40.607624",
     "status": "completed"
    },
    "tags": []
   },
   "source": [
    "**Uploading all the required text"
   ]
  },
  {
   "cell_type": "markdown",
   "id": "01d80c9c",
   "metadata": {
    "papermill": {
     "duration": 0.008978,
     "end_time": "2023-04-10T09:57:40.634152",
     "exception": false,
     "start_time": "2023-04-10T09:57:40.625174",
     "status": "completed"
    },
    "tags": []
   },
   "source": [
    "First of all, this model will only consider normal and hate speech as a binary variable. To prepare each instance with its label I will proceed at uploading and concatenating the relevant files "
   ]
  },
  {
   "cell_type": "code",
   "execution_count": 3,
   "id": "011c1bb2",
   "metadata": {
    "execution": {
     "iopub.execute_input": "2023-04-10T09:57:40.653418Z",
     "iopub.status.busy": "2023-04-10T09:57:40.653000Z",
     "iopub.status.idle": "2023-04-10T09:57:40.852388Z",
     "shell.execute_reply": "2023-04-10T09:57:40.850928Z"
    },
    "papermill": {
     "duration": 0.211969,
     "end_time": "2023-04-10T09:57:40.855019",
     "exception": false,
     "start_time": "2023-04-10T09:57:40.643050",
     "status": "completed"
    },
    "tags": []
   },
   "outputs": [
    {
     "data": {
      "text/plain": [
       "(895, 241)"
      ]
     },
     "execution_count": 3,
     "metadata": {},
     "output_type": "execute_result"
    }
   ],
   "source": [
    "#Get all instances of normal speech\n",
    "normal_1 = pd.read_csv('/kaggle/input/normal-hate-and-offensive-speeches/Normal_Speeches_1.csv')\n",
    "normal_2 = pd.read_csv('/kaggle/input/normal-hate-and-offensive-speeches/Normal_Speeches_2.csv')\n",
    "normal_3 = pd.read_csv('/kaggle/input/normal-hate-and-offensive-speeches/Normal_Speeches_3.csv')\n",
    "normal_4 = pd.read_csv('/kaggle/input/normal-hate-and-offensive-speeches/Normal_Speeches_4.csv')\n",
    "\n",
    "df_normal = pd.concat([normal_1,normal_2,normal_3,normal_4], axis=0) # concatenate all normal speech labeled tweets\n",
    "\n",
    "df_normal.shape\n"
   ]
  },
  {
   "cell_type": "code",
   "execution_count": 4,
   "id": "f0e1fb96",
   "metadata": {
    "execution": {
     "iopub.execute_input": "2023-04-10T09:57:40.874456Z",
     "iopub.status.busy": "2023-04-10T09:57:40.873767Z",
     "iopub.status.idle": "2023-04-10T09:57:41.019337Z",
     "shell.execute_reply": "2023-04-10T09:57:41.017934Z"
    },
    "papermill": {
     "duration": 0.15896,
     "end_time": "2023-04-10T09:57:41.022582",
     "exception": false,
     "start_time": "2023-04-10T09:57:40.863622",
     "status": "completed"
    },
    "tags": []
   },
   "outputs": [
    {
     "data": {
      "text/plain": [
       "(966, 125)"
      ]
     },
     "execution_count": 4,
     "metadata": {},
     "output_type": "execute_result"
    }
   ],
   "source": [
    "#get all instances of hate speech \n",
    "hate_1 = pd.read_csv('/kaggle/input/normal-hate-and-offensive-speeches/Hate_Speeches_1.csv')\n",
    "hate_2 = pd.read_csv('/kaggle/input/normal-hate-and-offensive-speeches/Hate_Speeches_2.csv')\n",
    "hate_3 = pd.read_csv('/kaggle/input/normal-hate-and-offensive-speeches/Hate_Speeches_3.csv')\n",
    "hate_4 = pd.read_csv('/kaggle/input/normal-hate-and-offensive-speeches/Hate_Speeches_4.csv')\n",
    "\n",
    "df_hate = pd.concat([hate_1,hate_2,hate_3,hate_4], axis=0)\n",
    "df_hate.shape"
   ]
  },
  {
   "cell_type": "markdown",
   "id": "16659c6a",
   "metadata": {
    "papermill": {
     "duration": 0.0084,
     "end_time": "2023-04-10T09:57:41.040486",
     "exception": false,
     "start_time": "2023-04-10T09:57:41.032086",
     "status": "completed"
    },
    "tags": []
   },
   "source": [
    "## Creating the labels and visualising the labels' size\n",
    "\n",
    "The next step entails creating the labels for each type of speech. Since ML models work on numbers only, I will assign 0 to normal and 1 to hate speech. "
   ]
  },
  {
   "cell_type": "code",
   "execution_count": 5,
   "id": "71a8263c",
   "metadata": {
    "execution": {
     "iopub.execute_input": "2023-04-10T09:57:41.062286Z",
     "iopub.status.busy": "2023-04-10T09:57:41.061284Z",
     "iopub.status.idle": "2023-04-10T09:57:41.070534Z",
     "shell.execute_reply": "2023-04-10T09:57:41.069184Z"
    },
    "papermill": {
     "duration": 0.022993,
     "end_time": "2023-04-10T09:57:41.073816",
     "exception": false,
     "start_time": "2023-04-10T09:57:41.050823",
     "status": "completed"
    },
    "tags": []
   },
   "outputs": [],
   "source": [
    "X_hate = df_hate['full_text']\n",
    "y_hate = [1]*(len(X_hate)) #code hate as 1"
   ]
  },
  {
   "cell_type": "code",
   "execution_count": 6,
   "id": "57161ff3",
   "metadata": {
    "execution": {
     "iopub.execute_input": "2023-04-10T09:57:41.093655Z",
     "iopub.status.busy": "2023-04-10T09:57:41.093200Z",
     "iopub.status.idle": "2023-04-10T09:57:41.100041Z",
     "shell.execute_reply": "2023-04-10T09:57:41.098744Z"
    },
    "papermill": {
     "duration": 0.020172,
     "end_time": "2023-04-10T09:57:41.102849",
     "exception": false,
     "start_time": "2023-04-10T09:57:41.082677",
     "status": "completed"
    },
    "tags": []
   },
   "outputs": [],
   "source": [
    "X_normal = df_normal ['full_text']\n",
    "y_normal = [0]*(len(X_normal))"
   ]
  },
  {
   "cell_type": "markdown",
   "id": "cb0a9d46",
   "metadata": {
    "papermill": {
     "duration": 0.008546,
     "end_time": "2023-04-10T09:57:41.120439",
     "exception": false,
     "start_time": "2023-04-10T09:57:41.111893",
     "status": "completed"
    },
    "tags": []
   },
   "source": [
    "It is important to check label sizes during the preprocessing of a machine learning (ML) model because it can provide useful insights into the balance of the dataset. For this reason, I will check how many istances of the same category are present by visualising a simple bar-plot."
   ]
  },
  {
   "cell_type": "code",
   "execution_count": 7,
   "id": "d07255c4",
   "metadata": {
    "execution": {
     "iopub.execute_input": "2023-04-10T09:57:41.140470Z",
     "iopub.status.busy": "2023-04-10T09:57:41.139530Z",
     "iopub.status.idle": "2023-04-10T09:57:41.339800Z",
     "shell.execute_reply": "2023-04-10T09:57:41.338630Z"
    },
    "papermill": {
     "duration": 0.213314,
     "end_time": "2023-04-10T09:57:41.342579",
     "exception": false,
     "start_time": "2023-04-10T09:57:41.129265",
     "status": "completed"
    },
    "tags": []
   },
   "outputs": [
    {
     "data": {
      "image/png": "[encoded data removed]",
      "text/plain": [
       "<Figure size 640x480 with 1 Axes>"
      ]
     },
     "metadata": {},
     "output_type": "display_data"
    }
   ],
   "source": [
    "# exploratory analysis, check label sizes\n",
    "\n",
    "normal_count = (len(X_normal)) \n",
    "hate_count = (len(X_hate))\n",
    "\n",
    "label_counts = [normal_count, hate_count]\n",
    "label_names =['Normal Speech','Hate Speech']\n",
    "\n",
    "plt.bar(label_names, label_counts)\n",
    "plt.title('Occurences of Normal and Hate Speech')\n",
    "plt.ylabel('Occurences')\n",
    "plt.show()\n"
   ]
  },
  {
   "cell_type": "markdown",
   "id": "741ff635",
   "metadata": {
    "papermill": {
     "duration": 0.008984,
     "end_time": "2023-04-10T09:57:41.361309",
     "exception": false,
     "start_time": "2023-04-10T09:57:41.352325",
     "status": "completed"
    },
    "tags": []
   },
   "source": [
    "The label sizes are very similar. This model is expected to perform well when properly trained"
   ]
  },
  {
   "cell_type": "markdown",
   "id": "934459d2",
   "metadata": {
    "papermill": {
     "duration": 0.009307,
     "end_time": "2023-04-10T09:57:41.380308",
     "exception": false,
     "start_time": "2023-04-10T09:57:41.371001",
     "status": "completed"
    },
    "tags": []
   },
   "source": [
    "## Creating the labels X and y\n",
    "After having completed these first steps, it is now time to create X and y. X is the dependent variable and will consist of both normal and hate speech text, whereas the variable y, which the model will attempt to predict, will be constituted by the sum of all labeled instances. "
   ]
  },
  {
   "cell_type": "code",
   "execution_count": 8,
   "id": "a95c699e",
   "metadata": {
    "execution": {
     "iopub.execute_input": "2023-04-10T09:57:41.401279Z",
     "iopub.status.busy": "2023-04-10T09:57:41.400821Z",
     "iopub.status.idle": "2023-04-10T09:57:41.408612Z",
     "shell.execute_reply": "2023-04-10T09:57:41.407151Z"
    },
    "papermill": {
     "duration": 0.022146,
     "end_time": "2023-04-10T09:57:41.412022",
     "exception": false,
     "start_time": "2023-04-10T09:57:41.389876",
     "status": "completed"
    },
    "tags": []
   },
   "outputs": [
    {
     "name": "stdout",
     "output_type": "stream",
     "text": [
      "0      Freedom is poetry, taking liberties with words...\n",
      "1      How is going,Biu?Are you passing peacefully an...\n",
      "2      u got ball sniffer on your team ofc u would fi...\n",
      "3      The sensible normal British public have had en...\n",
      "4      There is a conspiracy to declare all concerned...\n",
      "                             ...                        \n",
      "217    I hate people who only text a couple words at ...\n",
      "218    Yemi makes me hate the words “I got you” If a ...\n",
      "219    In other words... they hate the truth being to...\n",
      "220    In Rajasthan's Barmer, Swami Ramdev was very c...\n",
      "221    I hate decor with words written across it with...\n",
      "Name: full_text, Length: 1861, dtype: object\n"
     ]
    }
   ],
   "source": [
    "# create the X label\n",
    "X_raw = pd.concat([X_normal, X_hate]) \n",
    "print(X_raw)"
   ]
  },
  {
   "cell_type": "code",
   "execution_count": 9,
   "id": "0dc8bb5a",
   "metadata": {
    "execution": {
     "iopub.execute_input": "2023-04-10T09:57:41.433851Z",
     "iopub.status.busy": "2023-04-10T09:57:41.433407Z",
     "iopub.status.idle": "2023-04-10T09:57:41.439263Z",
     "shell.execute_reply": "2023-04-10T09:57:41.437403Z"
    },
    "papermill": {
     "duration": 0.020215,
     "end_time": "2023-04-10T09:57:41.442037",
     "exception": false,
     "start_time": "2023-04-10T09:57:41.421822",
     "status": "completed"
    },
    "tags": []
   },
   "outputs": [],
   "source": [
    "# create the y label\n",
    "y = y_normal + y_hate"
   ]
  },
  {
   "cell_type": "markdown",
   "id": "c57a3dd1",
   "metadata": {
    "papermill": {
     "duration": 0.008946,
     "end_time": "2023-04-10T09:57:41.460436",
     "exception": false,
     "start_time": "2023-04-10T09:57:41.451490",
     "status": "completed"
    },
    "tags": []
   },
   "source": [
    "## Text preprocessing \n",
    "\n",
    "However, the text needs to be further simplified to be turned into numerical vectors. There are a lot of approaches that could be adopted,but, especially in the case of tweets, it is important to strip http tags, emoji and symbols like @ and #, and simplify words that have repeated cahracters. Other steps that are often employed are tokenisation and the removal of stopwords. First, I define a function that performs all these operations and then I apply it to the text"
   ]
  },
  {
   "cell_type": "code",
   "execution_count": 10,
   "id": "4850fcfa",
   "metadata": {
    "execution": {
     "iopub.execute_input": "2023-04-10T09:57:41.481843Z",
     "iopub.status.busy": "2023-04-10T09:57:41.481381Z",
     "iopub.status.idle": "2023-04-10T09:57:41.496865Z",
     "shell.execute_reply": "2023-04-10T09:57:41.494722Z"
    },
    "papermill": {
     "duration": 0.030162,
     "end_time": "2023-04-10T09:57:41.500141",
     "exception": false,
     "start_time": "2023-04-10T09:57:41.469979",
     "status": "completed"
    },
    "tags": []
   },
   "outputs": [],
   "source": [
    "stop_words = set(stopwords.words('english')) #gets the stopword list from the dedicated library and saves them\n",
    "tk = TweetTokenizer() #defines the object, whose method is called in the function\n",
    "\n",
    "\n",
    "def preprocess_text(text):\n",
    "    # Remove URLs\n",
    "    text = re.sub(r'http\\S+', '', text)\n",
    "    # Remove user mentions\n",
    "    text = re.sub(r\"@\\S+\", \"\", text)\n",
    "    # Remove hashtags\n",
    "    text = re.sub(r\"#\\S+\", \"\", text)\n",
    "    # Remove emojis\n",
    "    text = emoji.emojize(text, variant='emoji_type')\n",
    "    # Remove repeated characters (e.g. \"soooooo\" -> \"so\")\n",
    "    text = re.sub(r'(.)\\1+', r'\\1', text)\n",
    "    # Lowercase the text\n",
    "    text = text.lower()\n",
    "    # Tokenize the text\n",
    "    words = tk.tokenize(text)\n",
    "    # Remove stop words\n",
    "    words = [w for w in words if w not in stop_words]\n",
    "    # Join the words back into a string\n",
    "    return ' '.join(words)\n",
    "    \n"
   ]
  },
  {
   "cell_type": "code",
   "execution_count": 11,
   "id": "d9540439",
   "metadata": {
    "execution": {
     "iopub.execute_input": "2023-04-10T09:57:41.521195Z",
     "iopub.status.busy": "2023-04-10T09:57:41.520765Z",
     "iopub.status.idle": "2023-04-10T09:57:41.787118Z",
     "shell.execute_reply": "2023-04-10T09:57:41.785808Z"
    },
    "papermill": {
     "duration": 0.28007,
     "end_time": "2023-04-10T09:57:41.789587",
     "exception": false,
     "start_time": "2023-04-10T09:57:41.509517",
     "status": "completed"
    },
    "tags": []
   },
   "outputs": [
    {
     "data": {
      "text/plain": [
       "0    fredom poetry , taking liberties words , break...\n",
       "1    going , biu ? pasing peacefuly hapily things l...\n",
       "2    u got bal snifer team ofc u would find perfect...\n",
       "3    sensible normal british public enough claptrap...\n",
       "4    conspiracy declare al concerned citizens acts ...\n",
       "Name: full_text, dtype: object"
      ]
     },
     "execution_count": 11,
     "metadata": {},
     "output_type": "execute_result"
    }
   ],
   "source": [
    "# Apply the preprocess_text function to the 'text' column\n",
    "X = X_raw.apply(preprocess_text)\n",
    "\n",
    "X.head()"
   ]
  },
  {
   "cell_type": "markdown",
   "id": "159b9f01",
   "metadata": {
    "papermill": {
     "duration": 0.009602,
     "end_time": "2023-04-10T09:57:41.808686",
     "exception": false,
     "start_time": "2023-04-10T09:57:41.799084",
     "status": "completed"
    },
    "tags": []
   },
   "source": [
    "## Create the training and testing sets and define the model \n",
    "The following step entails dividing the whole dataset into training and test set"
   ]
  },
  {
   "cell_type": "code",
   "execution_count": 12,
   "id": "3366b886",
   "metadata": {
    "execution": {
     "iopub.execute_input": "2023-04-10T09:57:41.830391Z",
     "iopub.status.busy": "2023-04-10T09:57:41.829969Z",
     "iopub.status.idle": "2023-04-10T09:57:41.838332Z",
     "shell.execute_reply": "2023-04-10T09:57:41.837001Z"
    },
    "papermill": {
     "duration": 0.022297,
     "end_time": "2023-04-10T09:57:41.840999",
     "exception": false,
     "start_time": "2023-04-10T09:57:41.818702",
     "status": "completed"
    },
    "tags": []
   },
   "outputs": [],
   "source": [
    "\n",
    "X_train, X_test, y_train, y_test = train_test_split(X, y, test_size=0.3, random_state=42)"
   ]
  },
  {
   "cell_type": "markdown",
   "id": "02e7fffd",
   "metadata": {
    "papermill": {
     "duration": 0.009058,
     "end_time": "2023-04-10T09:57:41.859410",
     "exception": false,
     "start_time": "2023-04-10T09:57:41.850352",
     "status": "completed"
    },
    "tags": []
   },
   "source": [
    "### Importing the GloVe vectors\n",
    "\n",
    "Now, it is time to build the model. In this case, I have downloaded word2vec and glove, which are pretrained neural network that assigns to each word a numerical vector. This values will be used convert the tweets into integer strings that will be used to classify the documents. This approach was chosen because word embeddings can capture semantic and syntactic relationships between words, and can be used to create distributed representations of text that can be fed into machine learning models. GloVe is a popular pre-trained word embedding model that has been trained on large amounts of text data and can provide high-quality vector representations of words. \n",
    "\n",
    "The GloVe file is in a specific format that is not compatible with the gensim library's implementation of KeyedVectors. Converting the file to word2vec format allows the pre-trained embeddings to be loaded and used in a gensim-based machine learning pipeline."
   ]
  },
  {
   "cell_type": "code",
   "execution_count": 13,
   "id": "e2bcc601",
   "metadata": {
    "execution": {
     "iopub.execute_input": "2023-04-10T09:57:41.881810Z",
     "iopub.status.busy": "2023-04-10T09:57:41.881337Z",
     "iopub.status.idle": "2023-04-10T09:58:58.489540Z",
     "shell.execute_reply": "2023-04-10T09:58:58.488166Z"
    },
    "papermill": {
     "duration": 76.623085,
     "end_time": "2023-04-10T09:58:58.492431",
     "exception": false,
     "start_time": "2023-04-10T09:57:41.869346",
     "status": "completed"
    },
    "tags": []
   },
   "outputs": [
    {
     "name": "stderr",
     "output_type": "stream",
     "text": [
      "/opt/conda/lib/python3.7/site-packages/ipykernel_launcher.py:8: DeprecationWarning: Call to deprecated `glove2word2vec` (KeyedVectors.load_word2vec_format(.., binary=False, no_header=True) loads GLoVE text vectors.).\n",
      "  \n"
     ]
    }
   ],
   "source": [
    "from gensim.scripts.glove2word2vec import glove2word2vec\n",
    "from gensim.models import KeyedVectors\n",
    "\n",
    "# Load GloVe embeddings\n",
    "# Convert GloVe file to word2vec format\n",
    "glove_file = '/kaggle/input/glove6b100dtxt/glove.6B.100d.txt'\n",
    "word2vec_file = '/kaggle/working/glove.6B.100d.word2vec'\n",
    "glove2word2vec(glove_file, word2vec_file)\n",
    "\n",
    "# Load word2vec file as KeyedVectors\n",
    "from gensim.models import KeyedVectors\n",
    "\n",
    "word_vectors = KeyedVectors.load_word2vec_format(word2vec_file, binary=False)\n",
    "\n"
   ]
  },
  {
   "cell_type": "markdown",
   "id": "e0bbc678",
   "metadata": {
    "papermill": {
     "duration": 0.00914,
     "end_time": "2023-04-10T09:58:58.511371",
     "exception": false,
     "start_time": "2023-04-10T09:58:58.502231",
     "status": "completed"
    },
    "tags": []
   },
   "source": [
    "### Tweets' vectorisation\n",
    "After having uploaded the related libraries is now time to transform our tokenised tweets into vectors.\n",
    "\n",
    "The function tweet_to_vec takes a tweet as input, tokenizes it into individual words, looks up the vector representation of each word in pre-trained GloVe embeddings, calculates the mean vector of all the word vectors in the tweet, and returns it as the tweet's vector representation. "
   ]
  },
  {
   "cell_type": "code",
   "execution_count": 14,
   "id": "ea2545d3",
   "metadata": {
    "execution": {
     "iopub.execute_input": "2023-04-10T09:58:58.532299Z",
     "iopub.status.busy": "2023-04-10T09:58:58.531842Z",
     "iopub.status.idle": "2023-04-10T09:58:58.670935Z",
     "shell.execute_reply": "2023-04-10T09:58:58.669634Z"
    },
    "papermill": {
     "duration": 0.153027,
     "end_time": "2023-04-10T09:58:58.674003",
     "exception": false,
     "start_time": "2023-04-10T09:58:58.520976",
     "status": "completed"
    },
    "tags": []
   },
   "outputs": [],
   "source": [
    "# Convert tweets to GloVe vectors\n",
    "def tweet_to_vec(tweet):\n",
    "    tokens = tweet.split()\n",
    "    vecs = []\n",
    "    for token in tokens:\n",
    "        try:\n",
    "            vec = word_vectors.get_vector(token)\n",
    "            vecs.append(vec)\n",
    "        except:\n",
    "            pass # if the word is not present in the vector list, it is just just skipped\n",
    "    if len(vecs) == 0:  # this is to handle tweets that have no words that are included in the vector lists \n",
    "        return np.zeros((100,)) #it will return a vector list of 0s\n",
    "    else:\n",
    "        return np.mean(vecs, axis=0) # if the tweet has a list of vector, it will compute the mean\n",
    "\n",
    "# apply the function to the train and test set \n",
    "X_train_vec = np.stack(X_train.apply(tweet_to_vec))\n",
    "X_test_vec = np.stack(X_test.apply(tweet_to_vec))"
   ]
  },
  {
   "cell_type": "markdown",
   "id": "b5c2101c",
   "metadata": {
    "papermill": {
     "duration": 0.009162,
     "end_time": "2023-04-10T09:58:58.693215",
     "exception": false,
     "start_time": "2023-04-10T09:58:58.684053",
     "status": "completed"
    },
    "tags": []
   },
   "source": [
    "After having defined this function, it is important to convert the vectorised sets from a pandas series object (resulting from apply) thanks a NumPy function that stacks a sequence of arrays along a new axis, resulting in a new array with one more dimension (2 dimensions in this case). Thus, the resulting array X_train_vec has shape (n_samples, 100), where n_samples is the number of tweets in the training dataset, and 100 is the length of the GloVe word vectors used to represent each tweet. "
   ]
  },
  {
   "cell_type": "code",
   "execution_count": 15,
   "id": "4ddd0a82",
   "metadata": {
    "execution": {
     "iopub.execute_input": "2023-04-10T09:58:58.715500Z",
     "iopub.status.busy": "2023-04-10T09:58:58.714371Z",
     "iopub.status.idle": "2023-04-10T09:58:58.847145Z",
     "shell.execute_reply": "2023-04-10T09:58:58.845848Z"
    },
    "papermill": {
     "duration": 0.147257,
     "end_time": "2023-04-10T09:58:58.849895",
     "exception": false,
     "start_time": "2023-04-10T09:58:58.702638",
     "status": "completed"
    },
    "tags": []
   },
   "outputs": [
    {
     "name": "stdout",
     "output_type": "stream",
     "text": [
      "[[-0.07140809  0.07327548  0.11420885 ... -0.23932625  0.235818\n",
      "   0.09761649]\n",
      " [-0.02881315  0.05371254  0.2027466  ... -0.46185863  0.25893265\n",
      "   0.13520676]\n",
      " [ 0.00742477  0.03418561 -0.08862551 ... -0.32178232  0.24075308\n",
      "  -0.10321085]\n",
      " ...\n",
      " [-0.13345328  0.10358742  0.23823614 ... -0.29282469  0.34474221\n",
      "   0.11850931]\n",
      " [-0.20654574 -0.00096095  0.28464901 ... -0.42527166  0.18504262\n",
      "   0.00240615]\n",
      " [ 0.11225546  0.14645582  0.25747254 ... -0.11153037  0.30790383\n",
      "   0.01508738]] 1\n"
     ]
    }
   ],
   "source": [
    "# apply the function to the train and test set \n",
    "X_train_vec = np.stack(X_train.apply(tweet_to_vec))\n",
    "X_test_vec = np.stack(X_test.apply(tweet_to_vec))\n",
    "\n",
    "print(X_train_vec, 1)"
   ]
  },
  {
   "cell_type": "markdown",
   "id": "9ec9b0c0",
   "metadata": {
    "papermill": {
     "duration": 0.009667,
     "end_time": "2023-04-10T09:58:58.870136",
     "exception": false,
     "start_time": "2023-04-10T09:58:58.860469",
     "status": "completed"
    },
    "tags": []
   },
   "source": [
    "I have chosen to apply logistic regression because it is suited for binary classification. "
   ]
  },
  {
   "cell_type": "markdown",
   "id": "940d3f10",
   "metadata": {
    "papermill": {
     "duration": 0.009336,
     "end_time": "2023-04-10T09:58:58.889623",
     "exception": false,
     "start_time": "2023-04-10T09:58:58.880287",
     "status": "completed"
    },
    "tags": []
   },
   "source": [
    "### Hyperparameter Tuning \n",
    "\n",
    "In order to tune the hyperparameters, I will define a function that evaluates the accuracy of the model for several values of C and display it in a plot, so that I can choose the value that performs the best. C is the regularization parameter which controls the trade-off between fitting the training data well and keeping the model simple. The solver is set to lbfgs, but there was no substantial difference between the score of different solvers. "
   ]
  },
  {
   "cell_type": "code",
   "execution_count": 16,
   "id": "c7f040c2",
   "metadata": {
    "execution": {
     "iopub.execute_input": "2023-04-10T09:58:58.910816Z",
     "iopub.status.busy": "2023-04-10T09:58:58.910371Z",
     "iopub.status.idle": "2023-04-10T09:58:58.919153Z",
     "shell.execute_reply": "2023-04-10T09:58:58.917718Z"
    },
    "papermill": {
     "duration": 0.022548,
     "end_time": "2023-04-10T09:58:58.921923",
     "exception": false,
     "start_time": "2023-04-10T09:58:58.899375",
     "status": "completed"
    },
    "tags": []
   },
   "outputs": [],
   "source": [
    "\n",
    "def plot_regularization_performance(X_train, y_train, X_test, y_test, C_values):\n",
    "    train_scores = []\n",
    "    test_scores = []\n",
    "    for C in C_values:\n",
    "        model = LogisticRegression(C=C, solver = 'lbfgs', max_iter=1000)\n",
    "        model.fit(X_train, y_train)\n",
    "        y_train_pred = model.predict(X_train)\n",
    "        y_test_pred = model.predict(X_test)\n",
    "        train_acc = accuracy_score(y_train, y_train_pred)\n",
    "        test_acc = accuracy_score(y_test, y_test_pred)\n",
    "        train_scores.append(train_acc)\n",
    "        test_scores.append(test_acc)\n",
    "\n",
    "    plt.plot(C_values, train_scores, label='Training Accuracy')\n",
    "    plt.plot(C_values, test_scores, label='Test Accuracy')\n",
    "    plt.xlabel('Regularization Parameter (C)')\n",
    "    plt.ylabel('Accuracy')\n",
    "    plt.legend()\n",
    "    plt.show()"
   ]
  },
  {
   "cell_type": "code",
   "execution_count": 17,
   "id": "f5bb7901",
   "metadata": {
    "execution": {
     "iopub.execute_input": "2023-04-10T09:58:58.943556Z",
     "iopub.status.busy": "2023-04-10T09:58:58.942694Z",
     "iopub.status.idle": "2023-04-10T09:59:00.091617Z",
     "shell.execute_reply": "2023-04-10T09:59:00.089955Z"
    },
    "papermill": {
     "duration": 1.164593,
     "end_time": "2023-04-10T09:59:00.096096",
     "exception": false,
     "start_time": "2023-04-10T09:58:58.931503",
     "status": "completed"
    },
    "tags": []
   },
   "outputs": [
    {
     "data": {
      "image/png": "[encoded data removed]",
      "text/plain": [
       "<Figure size 640x480 with 1 Axes>"
      ]
     },
     "metadata": {},
     "output_type": "display_data"
    }
   ],
   "source": [
    "C_values = [0.0001,0.001, 0.01, 0.1, 1, 2, 3,4,5,6,7,8,9,10,20,30]\n",
    "plot_regularization_performance(X_train_vec, y_train, X_test_vec, y_test, C_values)"
   ]
  },
  {
   "cell_type": "markdown",
   "id": "4dbac1e3",
   "metadata": {
    "papermill": {
     "duration": 0.010537,
     "end_time": "2023-04-10T09:59:00.118797",
     "exception": false,
     "start_time": "2023-04-10T09:59:00.108260",
     "status": "completed"
    },
    "tags": []
   },
   "source": [
    "## Applying Logistic Regression\n",
    "5 seems to perform well, for this reason I will use this value for C when applying Log Regression to the datasets"
   ]
  },
  {
   "cell_type": "code",
   "execution_count": 18,
   "id": "8d9f7758",
   "metadata": {
    "execution": {
     "iopub.execute_input": "2023-04-10T09:59:00.146119Z",
     "iopub.status.busy": "2023-04-10T09:59:00.145148Z",
     "iopub.status.idle": "2023-04-10T09:59:00.219929Z",
     "shell.execute_reply": "2023-04-10T09:59:00.218554Z"
    },
    "papermill": {
     "duration": 0.094167,
     "end_time": "2023-04-10T09:59:00.223298",
     "exception": false,
     "start_time": "2023-04-10T09:59:00.129131",
     "status": "completed"
    },
    "tags": []
   },
   "outputs": [
    {
     "name": "stdout",
     "output_type": "stream",
     "text": [
      "Accuracy: 0.8980322003577818\n",
      "              precision    recall  f1-score   support\n",
      "\n",
      "           0       0.89      0.89      0.89       258\n",
      "           1       0.91      0.90      0.91       301\n",
      "\n",
      "    accuracy                           0.90       559\n",
      "   macro avg       0.90      0.90      0.90       559\n",
      "weighted avg       0.90      0.90      0.90       559\n",
      "\n"
     ]
    }
   ],
   "source": [
    "# Define the logistic regression model\n",
    "lr_model = LogisticRegression(C=5, solver='lbfgs', max_iter=1000)\n",
    "\n",
    "# Fit the model on the training data\n",
    "lr_model.fit(X_train_vec, y_train)\n",
    "\n",
    "# Predict on the testing data\n",
    "y_pred = lr_model.predict(X_test_vec)\n",
    "\n",
    "# Print the accuracy score and classification report\n",
    "print(\"Accuracy:\", accuracy_score(y_test, y_pred))\n",
    "print(classification_report(y_test, y_pred))"
   ]
  },
  {
   "cell_type": "markdown",
   "id": "d3326d4d",
   "metadata": {
    "papermill": {
     "duration": 0.016589,
     "end_time": "2023-04-10T09:59:00.256778",
     "exception": false,
     "start_time": "2023-04-10T09:59:00.240189",
     "status": "completed"
    },
    "tags": []
   },
   "source": [
    "With an accuracy score of 0.89, the model performs well. Now I will plot the confusion matrix to visualise the ratio of false negatives and positives."
   ]
  },
  {
   "cell_type": "code",
   "execution_count": 19,
   "id": "6becd032",
   "metadata": {
    "execution": {
     "iopub.execute_input": "2023-04-10T09:59:00.293743Z",
     "iopub.status.busy": "2023-04-10T09:59:00.293162Z",
     "iopub.status.idle": "2023-04-10T09:59:00.586530Z",
     "shell.execute_reply": "2023-04-10T09:59:00.585196Z"
    },
    "papermill": {
     "duration": 0.315491,
     "end_time": "2023-04-10T09:59:00.589377",
     "exception": false,
     "start_time": "2023-04-10T09:59:00.273886",
     "status": "completed"
    },
    "tags": []
   },
   "outputs": [
    {
     "name": "stderr",
     "output_type": "stream",
     "text": [
      "/opt/conda/lib/python3.7/site-packages/sklearn/utils/deprecation.py:87: FutureWarning: Function plot_confusion_matrix is deprecated; Function `plot_confusion_matrix` is deprecated in 1.0 and will be removed in 1.2. Use one of the class methods: ConfusionMatrixDisplay.from_predictions or ConfusionMatrixDisplay.from_estimator.\n",
      "  warnings.warn(msg, category=FutureWarning)\n"
     ]
    },
    {
     "data": {
      "image/png": "[encoded data removed]",
      "text/plain": [
       "<Figure size 640x480 with 2 Axes>"
      ]
     },
     "metadata": {},
     "output_type": "display_data"
    }
   ],
   "source": [
    "labs = ['Normal', 'Hate']\n",
    "\n",
    "plot_confusion_matrix(lr_model, X_test_vec, y_test, display_labels = labs)\n",
    "plt.text(-0.4, 0.2, \"True Negative\", fontsize=12)\n",
    "plt.text(-0.4, 1.2, \"False Positive\", fontsize=12)\n",
    "plt.text(0.8, 0.2, \"False Negative\", fontsize=12)\n",
    "plt.text(0.8, 1.2, \"True Positive\", fontsize=12)\n",
    "\n",
    "\n",
    "\n",
    "plt.show()"
   ]
  },
  {
   "cell_type": "markdown",
   "id": "f2584268",
   "metadata": {
    "papermill": {
     "duration": 0.010638,
     "end_time": "2023-04-10T09:59:00.611170",
     "exception": false,
     "start_time": "2023-04-10T09:59:00.600532",
     "status": "completed"
    },
    "tags": []
   },
   "source": [
    "The plot shows how the number of false positives and negatives is low, thus showing that the model works well."
   ]
  },
  {
   "cell_type": "markdown",
   "id": "41a615d5",
   "metadata": {
    "papermill": {
     "duration": 0.010574,
     "end_time": "2023-04-10T09:59:00.632578",
     "exception": false,
     "start_time": "2023-04-10T09:59:00.622004",
     "status": "completed"
    },
    "tags": []
   },
   "source": [
    "## Conclusion\n",
    "\n",
    "In this notebook, I explored the use of GloVe vectors and logistic regression for the classification of tweets into normal and hate speech categories. Using the pre-trained GloVe vectors and logistic regression, I was able to build a model that achieved an accuracy of 90% on the test data.\n",
    "\n",
    "The performance of the model was evaluated using various metrics, including precision, recall, and F1-score. The model demonstrated a high level of precision and recall for the hate speech class, indicating that it is effective at detecting this type of speech.\n",
    "\n",
    "Overall, this notebook provides a practical guide to using GloVe vectors and logistic regression for text classification and demonstrates their effectiveness in detecting hate speech in tweets. "
   ]
  }
 ],
 "metadata": {
  "kernelspec": {
   "display_name": "Python 3",
   "language": "python",
   "name": "python3"
  },
  "language_info": {
   "codemirror_mode": {
    "name": "ipython",
    "version": 3
   },
   "file_extension": ".py",
   "mimetype": "text/x-python",
   "name": "python",
   "nbconvert_exporter": "python",
   "pygments_lexer": "ipython3",
   "version": "3.7.12"
  },
  "papermill": {
   "default_parameters": {},
   "duration": 94.612389,
   "end_time": "2023-04-10T09:59:01.566545",
   "environment_variables": {},
   "exception": null,
   "input_path": "__notebook__.ipynb",
   "output_path": "__notebook__.ipynb",
   "parameters": {},
   "start_time": "2023-04-10T09:57:26.954156",
   "version": "2.4.0"
  }
 },
 "nbformat": 4,
 "nbformat_minor": 5
}
